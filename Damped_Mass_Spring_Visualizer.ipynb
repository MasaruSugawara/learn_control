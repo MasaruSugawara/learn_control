{
 "cells": [
  {
   "cell_type": "code",
   "execution_count": 1,
   "id": "4a321e0d-9907-44d2-803a-e91afdd011b9",
   "metadata": {},
   "outputs": [
    {
     "data": {
      "application/vnd.jupyter.widget-view+json": {
       "model_id": "67dcf9a6057d48098399a197ff914eff",
       "version_major": 2,
       "version_minor": 0
      },
      "text/plain": [
       "BoundedFloatText(value=1.0, description='質量:', max=10.0, step=0.1)"
      ]
     },
     "metadata": {},
     "output_type": "display_data"
    },
    {
     "data": {
      "application/vnd.jupyter.widget-view+json": {
       "model_id": "f9908b97d4514f1eac2f8a4685249e79",
       "version_major": 2,
       "version_minor": 0
      },
      "text/plain": [
       "BoundedFloatText(value=0.5, description='ダンパ:', max=10.0, step=0.1)"
      ]
     },
     "metadata": {},
     "output_type": "display_data"
    },
    {
     "data": {
      "application/vnd.jupyter.widget-view+json": {
       "model_id": "2d6209b0754f4332b28f8f8232b3cbf4",
       "version_major": 2,
       "version_minor": 0
      },
      "text/plain": [
       "BoundedFloatText(value=1.0, description='ばね:', max=10.0, step=0.1)"
      ]
     },
     "metadata": {},
     "output_type": "display_data"
    },
    {
     "data": {
      "application/vnd.jupyter.widget-view+json": {
       "model_id": "b301232880604edfbe547b31805afecf",
       "version_major": 2,
       "version_minor": 0
      },
      "text/plain": [
       "interactive(children=(FloatSlider(value=10.0, description='kp', layout=Layout(width='100%'), max=20.0, step=0.…"
      ]
     },
     "metadata": {},
     "output_type": "display_data"
    }
   ],
   "source": [
    "%matplotlib inline\n",
    "from ipywidgets import interact, BoundedFloatText, FloatSlider, Layout, SliderStyle\n",
    "from DMS_PID import Damped_Mass_Spring_Model_PID_Simulator\n",
    "import numpy as np\n",
    "import matplotlib.pyplot as plt\n",
    "\n",
    "class Visualizer:\n",
    "    def __init__(self):\n",
    "        self.m_input = BoundedFloatText(value=1.0, min=0, max=10.0, step=0.1, description='質量:', disabled=False)\n",
    "        self.c_input = BoundedFloatText(value=0.5, min=0, max=10.0, step=0.1, description='ダンパ:', disabled=False)\n",
    "        self.k_input = BoundedFloatText(value=1.0, min=0, max=10.0, step=0.1, description='ばね:', disabled=False)\n",
    "        self.m = 1.0\n",
    "        self.c = 0.5\n",
    "        self.k = 1.0\n",
    "        \n",
    "        # 各ウィジェットに対してset_model_paramをイベントハンドラとして登録\n",
    "        self.m_input.observe(self.set_model_param, names='value')\n",
    "        self.c_input.observe(self.set_model_param, names='value')\n",
    "        self.k_input.observe(self.set_model_param, names='value')\n",
    "        \n",
    "        # ウィジェットを表示\n",
    "        display(self.m_input, self.c_input, self.k_input)\n",
    "        \n",
    "        # スライダーを作成\n",
    "        interact(self.on_slide, kp=FloatSlider(min=0.0, max=20.0, step=0.001, value=10.0, layout=Layout(width='100%'), style=SliderStyle(handle_color='blue')), \n",
    "                 ki=FloatSlider(min=0.0, max=20.0, step=0.001, value=2.16, layout=Layout(width='100%'), style=SliderStyle(handle_color='blue')), \n",
    "                 kd=FloatSlider(min=0.0, max=20.0, step=0.001, value=4.13, layout=Layout(width='100%'), style=SliderStyle(handle_color='blue')))\n",
    "\n",
    "    # 入力変更時に呼ばれる関数。値を更新して出力\n",
    "    def set_model_param(self, change):\n",
    "        # 各入力ボックスの値を対応する属性に更新\n",
    "        self.m = self.m_input.value\n",
    "        self.c = self.c_input.value\n",
    "        self.k = self.k_input.value\n",
    "        print(f\"Updated parameters: m={self.m}, c={self.c}, k={self.k}\")\n",
    "    \n",
    "    # シミュレーション実行メソッド\n",
    "    def simulate(self, param):\n",
    "        m, c, k, kp, ki, kd = param\n",
    "        dms = Damped_Mass_Spring_Model_PID_Simulator(m, k, c, kp, ki, kd)\n",
    "    \n",
    "        maxT = 30\n",
    "        dt = 0.01\n",
    "        dms.set_aim([0, 0], [10, 0], [10])\n",
    "        dms.ctrl.set_param(kp, ki, kd)\n",
    "        dms.ctrl.reset()\n",
    "        self.is_attained = dms.execute_until_stationary(maxT=maxT, dt=dt, threshold=0.1)\n",
    "        self.plot_result(dms)\n",
    "\n",
    "    def plot_result(self, dms):\n",
    "        plt.figure(figsize=(12, 4))\n",
    "        x_array = np.array([x.full().flatten() for x in dms.history_x])\n",
    "        u_array = np.array([u.full().flatten() for u in dms.history_u])[:, 0]\n",
    "        u_array = np.append(u_array, None)\n",
    "\n",
    "        plt.subplot(1, 2, 1)\n",
    "        title_str = 'Damped-Mass-Spring Model PID Simulation: '\n",
    "        if self.is_attained:\n",
    "            title_str += 'Attained in %.3f sec\\n' % (dms.time[-1])\n",
    "        else:\n",
    "            title_str += 'not attained\\n'\n",
    "        title_str += '(m, k, c) = (%.1f, %.1f, %.1f); ' % (dms.sys.model.m, dms.sys.model.k, dms.sys.model.c)\n",
    "        title_str += '(kp, ki, kd) = (%.3f, %.3f, %.3f)' % (dms.ctrl.Kp, dms.ctrl.Ki, dms.ctrl.Kd)\n",
    "        plt.title(title_str)\n",
    "        \n",
    "        plt.plot(dms.time, x_array[:, 0], label='Position')\n",
    "        plt.plot(dms.time, x_array[:, 1], label='Velocity')\n",
    "        plt.plot(dms.time, u_array, label='Control Input')\n",
    "        plt.xlabel('Time (s)')\n",
    "        plt.ylabel('State')\n",
    "        plt.legend()\n",
    "        plt.grid(True)\n",
    "\n",
    "        plt.subplot(1, 2, 2)\n",
    "        charpol = np.poly1d([dms.sys.model.m, dms.sys.model.c + dms.ctrl.Kd, dms.sys.model.k + dms.ctrl.Kp, dms.ctrl.Ki])\n",
    "        min_rt = np.inf\n",
    "        max_rt = -np.inf\n",
    "        hz = 0.0\n",
    "        wav_amp = 0.0\n",
    "        for z in charpol.roots:\n",
    "            if np.abs(z.imag) >= 1.0e-8:\n",
    "                hz = np.abs(z.imag / (2*np.pi))\n",
    "                wav_amp = z.real\n",
    "            min_rt = min(min_rt, z.real)\n",
    "            max_rt = max(max_rt, z.real)\n",
    "            \n",
    "        rt_dist = max_rt - min_rt\n",
    "        if rt_dist == 0:\n",
    "            rt_dist = 1.0\n",
    "        la_min = min_rt - rt_dist\n",
    "        la_max = max_rt + rt_dist\n",
    "        la = np.linspace(la_min, la_max, 100)\n",
    "        charval = list(map(charpol, la))\n",
    "\n",
    "        chartitle = '$%.1f\\lambda^3 + %.1f\\lambda^2 + %.1f\\lambda + %.1f$: ' % tuple(charpol.c)\n",
    "        if max_rt <= 0:\n",
    "            chartitle += 'Converges (%.3f)\\n' % max_rt\n",
    "        else:\n",
    "            chartitle += 'Diverges (%.3f)\\n' % max_rt\n",
    "        if hz == 0.0:\n",
    "            chartitle += 'no vibration'\n",
    "        else:\n",
    "            chartitle += 'vibration: %.3f Hz (%.3f) ' % (hz, wav_amp)\n",
    "\n",
    "        plt.title(chartitle)\n",
    "        plt.plot(la, charval)\n",
    "        plt.xlabel('Lambda')\n",
    "        plt.ylabel('Char pol value')\n",
    "        plt.grid(True)\n",
    "\n",
    "    # スライダー変更時に呼ばれる関数\n",
    "    def on_slide(self, kp, ki, kd):\n",
    "        self.simulate((self.m, self.c, self.k, kp, ki, kd))\n",
    "\n",
    "vis = Visualizer()\n"
   ]
  },
  {
   "cell_type": "code",
   "execution_count": null,
   "id": "6da64250-bf1a-4612-9dee-b1f164c7bdc3",
   "metadata": {},
   "outputs": [],
   "source": []
  }
 ],
 "metadata": {
  "kernelspec": {
   "display_name": "Python 3 (ipykernel)",
   "language": "python",
   "name": "python3"
  },
  "language_info": {
   "codemirror_mode": {
    "name": "ipython",
    "version": 3
   },
   "file_extension": ".py",
   "mimetype": "text/x-python",
   "name": "python",
   "nbconvert_exporter": "python",
   "pygments_lexer": "ipython3",
   "version": "3.10.12"
  }
 },
 "nbformat": 4,
 "nbformat_minor": 5
}
