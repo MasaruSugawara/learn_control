{
 "cells": [
  {
   "cell_type": "code",
   "execution_count": 1,
   "id": "4a321e0d-9907-44d2-803a-e91afdd011b9",
   "metadata": {},
   "outputs": [
    {
     "data": {
      "application/vnd.jupyter.widget-view+json": {
       "model_id": "69def4713b164f25abbcdc6e59a1b902",
       "version_major": 2,
       "version_minor": 0
      },
      "text/plain": [
       "BoundedFloatText(value=1.0, description='質量:', max=10.0, step=0.1)"
      ]
     },
     "metadata": {},
     "output_type": "display_data"
    },
    {
     "data": {
      "application/vnd.jupyter.widget-view+json": {
       "model_id": "7f7e5467402342a0a115e33680c09a1a",
       "version_major": 2,
       "version_minor": 0
      },
      "text/plain": [
       "BoundedFloatText(value=0.5, description='ダンパ:', max=10.0, step=0.1)"
      ]
     },
     "metadata": {},
     "output_type": "display_data"
    },
    {
     "data": {
      "application/vnd.jupyter.widget-view+json": {
       "model_id": "8389574a64a846f48130f7b5ba195639",
       "version_major": 2,
       "version_minor": 0
      },
      "text/plain": [
       "BoundedFloatText(value=1.0, description='ばね:', max=10.0, step=0.1)"
      ]
     },
     "metadata": {},
     "output_type": "display_data"
    },
    {
     "data": {
      "application/vnd.jupyter.widget-view+json": {
       "model_id": "67787566acb14953ab40c49dc0bf8755",
       "version_major": 2,
       "version_minor": 0
      },
      "text/plain": [
       "interactive(children=(FloatSlider(value=10.0, description='kp', layout=Layout(width='100%'), max=20.0, step=0.…"
      ]
     },
     "metadata": {},
     "output_type": "display_data"
    }
   ],
   "source": [
    "%matplotlib inline\n",
    "from ipywidgets import interact, BoundedFloatText, FloatSlider, Layout, SliderStyle\n",
    "from DMS_PID import Damped_Mass_Spring_Model_PID_Simulator\n",
    "import numpy as np\n",
    "import matplotlib.pyplot as plt\n",
    "\n",
    "class Visualizer:\n",
    "    def __init__(self):\n",
    "        self.m_input = BoundedFloatText(value=1.0, min=0, max=10.0, step=0.1, description='質量:', disabled=False)\n",
    "        self.c_input = BoundedFloatText(value=0.5, min=0, max=10.0, step=0.1, description='ダンパ:', disabled=False)\n",
    "        self.k_input = BoundedFloatText(value=1.0, min=0, max=10.0, step=0.1, description='ばね:', disabled=False)\n",
    "        self.m = 1.0\n",
    "        self.c = 0.5\n",
    "        self.k = 1.0\n",
    "        \n",
    "        # 各ウィジェットに対してset_model_paramをイベントハンドラとして登録\n",
    "        self.m_input.observe(self.set_model_param, names='value')\n",
    "        self.c_input.observe(self.set_model_param, names='value')\n",
    "        self.k_input.observe(self.set_model_param, names='value')\n",
    "        \n",
    "        # ウィジェットを表示\n",
    "        display(self.m_input, self.c_input, self.k_input)\n",
    "        \n",
    "        # スライダーを作成\n",
    "        interact(self.on_slide, kp=FloatSlider(min=0.0, max=20.0, step=0.001, value=10.0, layout=Layout(width='100%'), style=SliderStyle(handle_color='blue')), \n",
    "                 ki=FloatSlider(min=0.0, max=20.0, step=0.001, value=2.16, layout=Layout(width='100%'), style=SliderStyle(handle_color='blue')), \n",
    "                 kd=FloatSlider(min=0.0, max=20.0, step=0.001, value=4.13, layout=Layout(width='100%'), style=SliderStyle(handle_color='blue')))\n",
    "\n",
    "    # 入力変更時に呼ばれる関数。値を更新して出力\n",
    "    def set_model_param(self, change):\n",
    "        # 各入力ボックスの値を対応する属性に更新\n",
    "        self.m = self.m_input.value\n",
    "        self.c = self.c_input.value\n",
    "        self.k = self.k_input.value\n",
    "        print(f\"Updated parameters: m={self.m}, c={self.c}, k={self.k}\")\n",
    "    \n",
    "    # シミュレーション実行メソッド\n",
    "    def simulate(self, param):\n",
    "        m, c, k, kp, ki, kd = param\n",
    "        dms = Damped_Mass_Spring_Model_PID_Simulator(m, k, c, kp, ki, kd)\n",
    "    \n",
    "        maxT = 30\n",
    "        dt = 0.01\n",
    "        dms.set_aim([0, 0], [10, 0], [10])\n",
    "        dms.ctrl.set_param(kp, ki, kd)\n",
    "        dms.ctrl.reset()\n",
    "        self.is_attained = dms.execute_until_stationary(maxT=maxT, dt=dt, threshold=0.1)\n",
    "        self.plot_result(dms)\n",
    "\n",
    "    def plot_result(self, dms):\n",
    "        plt.figure(figsize=(12, 4))\n",
    "        x_array = np.array([x.full().flatten() for x in dms.history_x])\n",
    "        u_array = np.array([u.full().flatten() for u in dms.history_u])[:, 0]\n",
    "        u_array = np.append(u_array, None)\n",
    "\n",
    "        plt.subplot(1, 2, 1)\n",
    "        title_str = 'Damped-Mass-Spring Model PID Simulation: '\n",
    "        if self.is_attained:\n",
    "            title_str += 'Attained in %.3f sec\\n' % (dms.time[-1])\n",
    "        else:\n",
    "            title_str += 'not attained\\n'\n",
    "        title_str += '(m, k, c) = (%.1f, %.1f, %.1f); ' % (dms.sys.model.m, dms.sys.model.k, dms.sys.model.c)\n",
    "        title_str += '(kp, ki, kd) = (%.3f, %.3f, %.3f)' % (dms.ctrl.Kp, dms.ctrl.Ki, dms.ctrl.Kd)\n",
    "        plt.title(title_str)\n",
    "        \n",
    "        plt.plot(dms.time, x_array[:, 0], label='Position')\n",
    "        plt.plot(dms.time, x_array[:, 1], label='Velocity')\n",
    "        plt.plot(dms.time, u_array, label='Control Input')\n",
    "        plt.xlabel('Time (s)')\n",
    "        plt.ylabel('State')\n",
    "        plt.legend()\n",
    "        plt.grid(True)\n",
    "\n",
    "        plt.subplot(1, 2, 2)\n",
    "        charpol = np.poly1d([dms.sys.model.m, dms.sys.model.c + dms.ctrl.Kd, dms.sys.model.k + dms.ctrl.Kp, dms.ctrl.Ki])\n",
    "        min_rt = np.inf\n",
    "        max_rt = -np.inf\n",
    "        hz = 0.0\n",
    "        wav_amp = 0.0\n",
    "        for z in charpol.roots:\n",
    "            if np.abs(z.imag) >= 1.0e-8:\n",
    "                hz = np.abs(z.imag / (2*np.pi))\n",
    "                wav_amp = z.real\n",
    "            min_rt = min(min_rt, z.real)\n",
    "            max_rt = max(max_rt, z.real)\n",
    "            \n",
    "        rt_dist = max_rt - min_rt\n",
    "        if rt_dist == 0:\n",
    "            rt_dist = 1.0\n",
    "        la_min = min_rt - rt_dist\n",
    "        la_max = max_rt + rt_dist\n",
    "        la = np.linspace(la_min, la_max, 100)\n",
    "        charval = list(map(charpol, la))\n",
    "\n",
    "        chartitle = '$%.1f\\lambda^3 + %.1f\\lambda^2 + %.1f\\lambda + %.1f$: ' % tuple(charpol.c)\n",
    "        if max_rt <= 0:\n",
    "            chartitle += 'Converges (%.3f)\\n' % max_rt\n",
    "        else:\n",
    "            chartitle += 'Diverges (%.3f)\\n' % max_rt\n",
    "        if hz == 0.0:\n",
    "            chartitle += 'no vibration'\n",
    "        else:\n",
    "            chartitle += 'vibration: %.3f Hz (%.3f) ' % (hz, wav_amp)\n",
    "\n",
    "        plt.title(chartitle)\n",
    "        plt.plot(la, charval)\n",
    "        plt.xlabel('Lambda')\n",
    "        plt.ylabel('Char pol value')\n",
    "        plt.grid(True)\n",
    "\n",
    "    # スライダー変更時に呼ばれる関数\n",
    "    def on_slide(self, kp, ki, kd):\n",
    "        self.simulate((self.m, self.c, self.k, kp, ki, kd))\n",
    "\n",
    "vis = Visualizer()\n"
   ]
  },
  {
   "cell_type": "code",
   "execution_count": 2,
   "id": "cf019a86-28a2-4681-b906-75e0e79d28e6",
   "metadata": {},
   "outputs": [
    {
     "data": {
      "application/vnd.jupyter.widget-view+json": {
       "model_id": "a2319d09424f4d07826faf83b43fc7f6",
       "version_major": 2,
       "version_minor": 0
      },
      "text/plain": [
       "BoundedFloatText(value=1.0, description='質量:', max=10.0, step=0.1)"
      ]
     },
     "metadata": {},
     "output_type": "display_data"
    },
    {
     "data": {
      "application/vnd.jupyter.widget-view+json": {
       "model_id": "e06620511a014e35b0aa29e53454dd41",
       "version_major": 2,
       "version_minor": 0
      },
      "text/plain": [
       "BoundedFloatText(value=0.5, description='ダンパ:', max=10.0, step=0.1)"
      ]
     },
     "metadata": {},
     "output_type": "display_data"
    },
    {
     "data": {
      "application/vnd.jupyter.widget-view+json": {
       "model_id": "bd7ee264f0544c5b9b967e56df3244fa",
       "version_major": 2,
       "version_minor": 0
      },
      "text/plain": [
       "BoundedFloatText(value=1.0, description='ばね:', max=10.0, step=0.1)"
      ]
     },
     "metadata": {},
     "output_type": "display_data"
    },
    {
     "data": {
      "application/vnd.jupyter.widget-view+json": {
       "model_id": "919a4d82795145f3a5a0326534e2687b",
       "version_major": 2,
       "version_minor": 0
      },
      "text/plain": [
       "BoundedIntText(value=30, description='ホライズン長:', max=1000, min=1)"
      ]
     },
     "metadata": {},
     "output_type": "display_data"
    },
    {
     "data": {
      "application/vnd.jupyter.widget-view+json": {
       "model_id": "79498c373f80494285722fe5a5094888",
       "version_major": 2,
       "version_minor": 0
      },
      "text/plain": [
       "BoundedFloatText(value=0.01, description='ステップ時間:', min=1e-05)"
      ]
     },
     "metadata": {},
     "output_type": "display_data"
    },
    {
     "data": {
      "application/vnd.jupyter.widget-view+json": {
       "model_id": "53608182160146408ba747c4b050c2bb",
       "version_major": 2,
       "version_minor": 0
      },
      "text/plain": [
       "interactive(children=(FloatSlider(value=10.0, description='Qxx', layout=Layout(width='100%'), style=SliderStyl…"
      ]
     },
     "metadata": {},
     "output_type": "display_data"
    }
   ],
   "source": [
    "%matplotlib inline\n",
    "from ipywidgets import interact, BoundedFloatText, FloatSlider, BoundedIntText, Button, Layout, SliderStyle\n",
    "from IPython.display import display, Math\n",
    "from DMS_MPC import Damped_Mass_Spring_Model_MPC_Simulator\n",
    "import numpy as np\n",
    "import sympy as sp\n",
    "import matplotlib.pyplot as plt\n",
    "\n",
    "class MPC_param:\n",
    "   def __init__(self, param_horizon, param_cost):\n",
    "    self.K, self.step_time = param_horizon\n",
    "    self.Q, self.R, self.Qf = param_cost\n",
    "\n",
    "class VisualizerMPC:\n",
    "    def __init__(self):\n",
    "        self.m_input = BoundedFloatText(value=1.0, min=0, max=10.0, step=0.1, description='質量:', disabled=False)\n",
    "        self.c_input = BoundedFloatText(value=0.5, min=0, max=10.0, step=0.1, description='ダンパ:', disabled=False)\n",
    "        self.k_input = BoundedFloatText(value=1.0, min=0, max=10.0, step=0.1, description='ばね:', disabled=False)\n",
    "        self.horizon_input = BoundedIntText(value=30, min=1, max=1000, step=1, description='ホライズン長:', disabled=False)\n",
    "        self.step_time_input = BoundedFloatText(value=0.01, min=0.00001, max=100.0, description='ステップ時間:', disabled=False)\n",
    "        \n",
    "        self.m = 1.0\n",
    "        self.c = 0.5\n",
    "        self.k = 1.0\n",
    "        self.horizon = 50\n",
    "        self.step_time = 0.01\n",
    "        \n",
    "        # 各ウィジェットに対してset_model_paramをイベントハンドラとして登録\n",
    "        self.m_input.observe(self.set_model_param, names='value')\n",
    "        self.c_input.observe(self.set_model_param, names='value')\n",
    "        self.k_input.observe(self.set_model_param, names='value')\n",
    "        self.horizon_input.observe(self.set_model_param, names='value')\n",
    "        self.step_time_input.observe(self.set_model_param, names='value')\n",
    "        \n",
    "        # ウィジェットを表示\n",
    "        display(self.m_input, self.c_input, self.k_input, self.horizon_input, self.step_time_input)\n",
    "        \n",
    "        # スライダーを作成\n",
    "        interact(self.on_cost_slide,\n",
    "                 # stage cost = Qxx*x^2 + Qxv * x*v + Qvv*v^2 + Quu*u^2\n",
    "                 Qxx=FloatSlider(min=0.0, max=100.0, step=0.1, value=10.0, layout=Layout(width='100%'), style=SliderStyle(handle_color='blue', continuous_update=False)),\n",
    "                 Qxv=FloatSlider(min=0.0, max=100.0, step=0.1, value=0.0, layout=Layout(width='100%'), style=SliderStyle(handle_color='blue', continuous_update=False)),\n",
    "                 Qvv=FloatSlider(min=0.0, max=100.0, step=0.1, value=0.0, layout=Layout(width='100%'), style=SliderStyle(handle_color='blue', continuous_update=False)),\n",
    "                 Quu=FloatSlider(min=0.0, max=100.0, step=0.1, value=0.0, layout=Layout(width='100%'), style=SliderStyle(handle_color='blue', continuous_update=False)),\n",
    "                 \n",
    "                 # terminal cost = Qfxx*x^2 + Qfxv * x*v + Qfvv*v^2\n",
    "                 Qfxx=FloatSlider(min=0.0, max=100.0, step=0.1, value=10.0, layout=Layout(width='100%'), style=SliderStyle(handle_color='blue', continuous_update=False)),\n",
    "                 Qfxv=FloatSlider(min=0.0, max=100.0, step=0.1, value=0.0, layout=Layout(width='100%'), style=SliderStyle(handle_color='blue', continuous_update=False)),\n",
    "                 Qfvv=FloatSlider(min=0.0, max=100.0, step=0.1, value=0.0, layout=Layout(width='100%'), style=SliderStyle(handle_color='blue', continuous_update=False))\n",
    "                )\n",
    "\n",
    "    # 入力変更時に呼ばれる関数。値を更新して出力\n",
    "    def set_model_param(self, change):\n",
    "        # 各入力ボックスの値を対応する属性に更新\n",
    "        self.m = self.m_input.value\n",
    "        self.c = self.c_input.value\n",
    "        self.k = self.k_input.value\n",
    "        self.horizon = self.horizon_input.value\n",
    "        self.step_time = self.step_time_input.value\n",
    "    \n",
    "    # シミュレーション実行メソッド\n",
    "    def simulate(self, param):\n",
    "        dms = Damped_Mass_Spring_Model_MPC_Simulator(self.m, self.k, self.c)\n",
    "        self.dms = dms\n",
    "        self.param = param\n",
    "        maxT = 10\n",
    "        dt = 0.01\n",
    "\n",
    "        dms.ctrl.set_horizon(param.K, param.K*param.step_time)\n",
    "        dms.ctrl.set_constraint(np.array([-0.01, -0.01]), np.array([10.01, 10.01]), np.array([-10.0]), np.array([10.0]))\n",
    "        dms.ctrl.set_cost(param.Q, param.R, param.Qf)\n",
    "        dms.set_aim([0, 0], [10, 0], [10])\n",
    "        dms.ctrl.set_solver()\n",
    "        dms.ctrl.opt_history = []\n",
    "        dms.ctrl.set_record(True)\n",
    "        \n",
    "        self.is_attained = dms.execute_until_stationary(maxT=maxT, dt=dt, threshold=0.1)\n",
    "        interact(self.on_timeline_slide,\n",
    "                 t=FloatSlider(min=0.0, max=dms.time[-2], step=dt, value=dms.time[-2], layout=Layout(width='100%'), style=SliderStyle(handle_color='blue'))\n",
    "                )\n",
    "\n",
    "    def plot_result(self, dms, param, t=-1):\n",
    "        plt.figure(figsize=(12, 4))\n",
    "        x_array = np.array([x.full().flatten() for x in dms.history_x])\n",
    "        u_array = np.array([u.full().flatten() for u in dms.history_u])[:, 0]\n",
    "        u_array = np.append(u_array, None)\n",
    "\n",
    "        plt.subplot(1, 1, 1)\n",
    "        title_str = 'Damped-Mass-Spring Model MPC Simulation: '\n",
    "        if self.is_attained:\n",
    "            title_str += 'Attained in %.3f sec\\n' % (dms.time[-1])\n",
    "        else:\n",
    "            title_str += 'not attained\\n'\n",
    "        title_str += '(m, k, c) = (%.1f, %.1f, %.1f); ' % (dms.sys.model.m, dms.sys.model.k, dms.sys.model.c)\n",
    "        plt.title(title_str)\n",
    "\n",
    "        if t >= 0:\n",
    "            cur_step = int(t / 0.01 + 0.5)\n",
    "        else:\n",
    "            cur_step = len(dms.time)-1\n",
    "\n",
    "        color_list = ['tab:blue', 'tab:orange', 'tab:green']\n",
    "        \n",
    "        plt.plot(dms.time[:cur_step+1], x_array[:, 0][:cur_step+1], label='Position', color=color_list[0])\n",
    "        plt.plot(dms.time[:cur_step+1], x_array[:, 1][:cur_step+1], label='Velocity', color=color_list[1])\n",
    "        plt.plot(dms.time[:cur_step+1], u_array[:cur_step+1], label='Control Input', color=color_list[2])\n",
    "        if t >= 0:\n",
    "            hist = self.dms.ctrl.opt_history[cur_step]\n",
    "            plt.plot(list(t + s*self.dms.ctrl.dt for s in np.arange(self.dms.ctrl.K + 1)), hist[0].full()[0], linestyle='--', color=color_list[0])\n",
    "            plt.plot(list(t + s*self.dms.ctrl.dt for s in np.arange(self.dms.ctrl.K + 1)), hist[0].full()[1], linestyle='--', color=color_list[1])\n",
    "            plt.plot(list(t + s*self.dms.ctrl.dt for s in np.arange(self.dms.ctrl.K)), hist[1].full()[0], linestyle='--', color=color_list[2])\n",
    "            \n",
    "        plt.xlabel('Time (s)')\n",
    "        plt.ylabel('State')\n",
    "        plt.legend()\n",
    "        plt.grid(True)\n",
    "\n",
    "    def is_positive_semidefinite_sym2x2(self, Q):\n",
    "        return Q[0][1] == Q[1][0] and Q[0][0] >= 0 and Q[0][0]*Q[1][1] >= Q[0][1]*Q[0][1]\n",
    "\n",
    "    # スライダー変更時に呼ばれる関数\n",
    "    def on_cost_slide(self, Qxx, Qxv, Qvv, Quu, Qfxx, Qfxv, Qfvv):\n",
    "        Qx = np.array([[Qxx, 0.5*Qxv], [0.5*Qxv, Qvv]])\n",
    "        Qu = np.array([Quu])\n",
    "        Qf = np.array([[Qfxx, 0.5*Qfxv], [0.5*Qfxv, Qfvv]])\n",
    "        display(Math(rf\"\"\"\n",
    "            \\begin{{equation}}\n",
    "                Q = {sp.latex(sp.Matrix(Qx))}, \\quad R = {sp.latex(sp.Matrix(Qu))}, \\quad Q_f = {sp.latex(sp.Matrix(Qf))}\n",
    "            \\end{{equation}}\n",
    "            \"\"\"))\n",
    "        \n",
    "        if self.is_positive_semidefinite_sym2x2(Qx) and Quu >= 0 and self.is_positive_semidefinite_sym2x2(Qf):\n",
    "            self.simulate(MPC_param((self.horizon, self.step_time), (Qx, Qu, Qf)))\n",
    "        else:\n",
    "            print(\"The cost function is not positive semi-definite!!!\")\n",
    "\n",
    "    def on_timeline_slide(self, t):\n",
    "        self.plot_result(self.dms, self.param, t=t)\n",
    "\n",
    "vis = VisualizerMPC()\n"
   ]
  }
 ],
 "metadata": {
  "kernelspec": {
   "display_name": "Python 3 (ipykernel)",
   "language": "python",
   "name": "python3"
  },
  "language_info": {
   "codemirror_mode": {
    "name": "ipython",
    "version": 3
   },
   "file_extension": ".py",
   "mimetype": "text/x-python",
   "name": "python",
   "nbconvert_exporter": "python",
   "pygments_lexer": "ipython3",
   "version": "3.10.12"
  }
 },
 "nbformat": 4,
 "nbformat_minor": 5
}
